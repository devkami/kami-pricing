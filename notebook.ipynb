{
 "cells": [
  {
   "cell_type": "code",
   "execution_count": null,
   "metadata": {},
   "outputs": [],
   "source": [
    "from service import reports_folder\n",
    "from kami_pricing.pricing_manager import PricingManager\n",
    "from kami_pricing.constant import PRICING_MANAGER_FILE\n",
    "pricing_manager = PricingManager.from_json(file_path=PRICING_MANAGER_FILE)"
   ]
  },
  {
   "cell_type": "code",
   "execution_count": null,
   "metadata": {},
   "outputs": [],
   "source": [
    "scraping_df, pricing_df = pricing_manager.scraping_and_pricing()"
   ]
  }
 ],
 "metadata": {
  "kernelspec": {
   "display_name": "kami-princing-hADSgdW2-py3.11",
   "language": "python",
   "name": "python3"
  },
  "language_info": {
   "codemirror_mode": {
    "name": "ipython",
    "version": 3
   },
   "file_extension": ".py",
   "mimetype": "text/x-python",
   "name": "python",
   "nbconvert_exporter": "python",
   "pygments_lexer": "ipython3",
   "version": "3.11.7"
  },
  "orig_nbformat": 4
 },
 "nbformat": 4,
 "nbformat_minor": 2
}
