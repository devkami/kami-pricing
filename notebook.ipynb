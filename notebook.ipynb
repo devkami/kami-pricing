{
 "cells": [
  {
   "cell_type": "code",
   "execution_count": 1,
   "metadata": {},
   "outputs": [],
   "source": [
    "import pandas as pd\n",
    "data = {\n",
    "    'special_price': [10.0],\n",
    "    'COST': [2.0],\n",
    "    'FREIGHT': [1.0],\n",
    "    'INPUT': [1.0],\n",
    "}\n",
    "df = pd.DataFrame(data)"
   ]
  },
  {
   "cell_type": "code",
   "execution_count": 2,
   "metadata": {},
   "outputs": [
    {
     "name": "stderr",
     "output_type": "stream",
     "text": [
      "2023-10-02 03:37:11 - [Tiny API] [INFO]: Calling get_product_by_sku\n",
      "2023-10-02 03:37:11 - [Tiny API] [INFO]: https://api.tiny.com.br/api2/produtos.pesquisa.php - {'token': '20797bd0d35bb8ea73fe3d844355b0d0175fd246', 'pesquisa': 'HA0068', 'formato': 'JSON'}\n"
     ]
    },
    {
     "ename": "Exception",
     "evalue": "An unknown error occurred: HTTP error occurred: [{'erro': 'token inválido'}]",
     "output_type": "error",
     "traceback": [
      "\u001b[0;31m---------------------------------------------------------------------------\u001b[0m",
      "\u001b[0;31mException\u001b[0m                                 Traceback (most recent call last)",
      "File \u001b[0;32m~/dev/kami-princing/kami_princing/tiny_api.py:42\u001b[0m, in \u001b[0;36mTinyAPI.get_product_by_sku\u001b[0;34m(self, sku)\u001b[0m\n\u001b[1;32m     41\u001b[0m \u001b[39mif\u001b[39;00m \u001b[39m'\u001b[39m\u001b[39mretorno\u001b[39m\u001b[39m'\u001b[39m \u001b[39min\u001b[39;00m response \u001b[39mand\u001b[39;00m response[\u001b[39m'\u001b[39m\u001b[39mretorno\u001b[39m\u001b[39m'\u001b[39m][\u001b[39m'\u001b[39m\u001b[39mstatus\u001b[39m\u001b[39m'\u001b[39m] \u001b[39m==\u001b[39m \u001b[39m'\u001b[39m\u001b[39mErro\u001b[39m\u001b[39m'\u001b[39m:\n\u001b[0;32m---> 42\u001b[0m     \u001b[39mraise\u001b[39;00m \u001b[39mException\u001b[39;00m(\u001b[39mf\u001b[39m\u001b[39m\"\u001b[39m\u001b[39mHTTP error occurred: \u001b[39m\u001b[39m{\u001b[39;00mresponse[\u001b[39m'\u001b[39m\u001b[39mretorno\u001b[39m\u001b[39m'\u001b[39m][\u001b[39m'\u001b[39m\u001b[39merros\u001b[39m\u001b[39m'\u001b[39m]\u001b[39m}\u001b[39;00m\u001b[39m\"\u001b[39m)\n\u001b[1;32m     43\u001b[0m \u001b[39mreturn\u001b[39;00m response\n",
      "\u001b[0;31mException\u001b[0m: HTTP error occurred: [{'erro': 'token inválido'}]",
      "\nThe above exception was the direct cause of the following exception:\n",
      "\u001b[0;31mException\u001b[0m                                 Traceback (most recent call last)",
      "\u001b[1;32m/home/maicondmenezes/dev/kami-princing/notebook.ipynb Cell 2\u001b[0m line \u001b[0;36m5\n\u001b[1;32m      <a href='vscode-notebook-cell:/home/maicondmenezes/dev/kami-princing/notebook.ipynb#W4sZmlsZQ%3D%3D?line=2'>3</a>\u001b[0m load_dotenv()\n\u001b[1;32m      <a href='vscode-notebook-cell:/home/maicondmenezes/dev/kami-princing/notebook.ipynb#W4sZmlsZQ%3D%3D?line=3'>4</a>\u001b[0m tiny_api \u001b[39m=\u001b[39m TinyAPI()\n\u001b[0;32m----> <a href='vscode-notebook-cell:/home/maicondmenezes/dev/kami-princing/notebook.ipynb#W4sZmlsZQ%3D%3D?line=4'>5</a>\u001b[0m res \u001b[39m=\u001b[39m tiny_api\u001b[39m.\u001b[39;49mget_product_by_sku(\u001b[39m'\u001b[39;49m\u001b[39mHA0068\u001b[39;49m\u001b[39m'\u001b[39;49m)\n",
      "File \u001b[0;32m~/.cache/pypoetry/virtualenvs/kami-princing-hADSgdW2-py3.11/lib/python3.11/site-packages/kami_logging/kami_logging.py:31\u001b[0m, in \u001b[0;36mbenchmark_with.<locals>.decorator.<locals>.wrapper\u001b[0;34m(*args, **kwargs)\u001b[0m\n\u001b[1;32m     28\u001b[0m \u001b[39m@functools\u001b[39m\u001b[39m.\u001b[39mwraps(func)\n\u001b[1;32m     29\u001b[0m \u001b[39mdef\u001b[39;00m \u001b[39mwrapper\u001b[39m(\u001b[39m*\u001b[39margs: Any, \u001b[39m*\u001b[39m\u001b[39m*\u001b[39mkwargs: Any) \u001b[39m-\u001b[39m\u001b[39m>\u001b[39m Any:\n\u001b[1;32m     30\u001b[0m     start \u001b[39m=\u001b[39m perf_counter()\n\u001b[0;32m---> 31\u001b[0m     result \u001b[39m=\u001b[39m func(\u001b[39m*\u001b[39;49margs, \u001b[39m*\u001b[39;49m\u001b[39m*\u001b[39;49mkwargs)\n\u001b[1;32m     32\u001b[0m     end \u001b[39m=\u001b[39m perf_counter()\n\u001b[1;32m     33\u001b[0m     runtime \u001b[39m=\u001b[39m end \u001b[39m-\u001b[39m start\n",
      "File \u001b[0;32m~/.cache/pypoetry/virtualenvs/kami-princing-hADSgdW2-py3.11/lib/python3.11/site-packages/kami_logging/kami_logging.py:49\u001b[0m, in \u001b[0;36mlogging_with.<locals>.decorator.<locals>.wrapper\u001b[0;34m(*args, **kwargs)\u001b[0m\n\u001b[1;32m     46\u001b[0m \u001b[39m@functools\u001b[39m\u001b[39m.\u001b[39mwraps(func)\n\u001b[1;32m     47\u001b[0m \u001b[39mdef\u001b[39;00m \u001b[39mwrapper\u001b[39m(\u001b[39m*\u001b[39margs: Any, \u001b[39m*\u001b[39m\u001b[39m*\u001b[39mkwargs: Any) \u001b[39m-\u001b[39m\u001b[39m>\u001b[39m Any:\n\u001b[1;32m     48\u001b[0m     logger\u001b[39m.\u001b[39minfo(\u001b[39mf\u001b[39m\u001b[39m'\u001b[39m\u001b[39mCalling \u001b[39m\u001b[39m{\u001b[39;00mfunc\u001b[39m.\u001b[39m\u001b[39m__name__\u001b[39m\u001b[39m}\u001b[39;00m\u001b[39m'\u001b[39m)\n\u001b[0;32m---> 49\u001b[0m     result \u001b[39m=\u001b[39m func(\u001b[39m*\u001b[39;49margs, \u001b[39m*\u001b[39;49m\u001b[39m*\u001b[39;49mkwargs)\n\u001b[1;32m     50\u001b[0m     logger\u001b[39m.\u001b[39minfo(\u001b[39mf\u001b[39m\u001b[39m'\u001b[39m\u001b[39mFinished Calling \u001b[39m\u001b[39m{\u001b[39;00mfunc\u001b[39m.\u001b[39m\u001b[39m__name__\u001b[39m\u001b[39m}\u001b[39;00m\u001b[39m'\u001b[39m)\n\u001b[1;32m     51\u001b[0m     \u001b[39mreturn\u001b[39;00m result\n",
      "File \u001b[0;32m~/dev/kami-princing/kami_princing/tiny_api.py:49\u001b[0m, in \u001b[0;36mTinyAPI.get_product_by_sku\u001b[0;34m(self, sku)\u001b[0m\n\u001b[1;32m     47\u001b[0m     \u001b[39mraise\u001b[39;00m \u001b[39mException\u001b[39;00m(\u001b[39mf\u001b[39m\u001b[39m'\u001b[39m\u001b[39mAn error occurred: \u001b[39m\u001b[39m{\u001b[39;00merr\u001b[39m}\u001b[39;00m\u001b[39m'\u001b[39m) \u001b[39mfrom\u001b[39;00m \u001b[39merr\u001b[39;00m\n\u001b[1;32m     48\u001b[0m \u001b[39mexcept\u001b[39;00m \u001b[39mException\u001b[39;00m \u001b[39mas\u001b[39;00m err:\n\u001b[0;32m---> 49\u001b[0m     \u001b[39mraise\u001b[39;00m \u001b[39mException\u001b[39;00m(\u001b[39mf\u001b[39m\u001b[39m'\u001b[39m\u001b[39mAn unknown error occurred: \u001b[39m\u001b[39m{\u001b[39;00merr\u001b[39m}\u001b[39;00m\u001b[39m'\u001b[39m) \u001b[39mfrom\u001b[39;00m \u001b[39merr\u001b[39;00m\n",
      "\u001b[0;31mException\u001b[0m: An unknown error occurred: HTTP error occurred: [{'erro': 'token inválido'}]"
     ]
    }
   ],
   "source": [
    "from kami_princing.tiny_api import TinyAPI\n",
    "from dotenv import load_dotenv\n",
    "load_dotenv()\n",
    "tiny_api = TinyAPI()\n",
    "res = tiny_api.get_product_by_sku('HA0068')"
   ]
  }
 ],
 "metadata": {
  "kernelspec": {
   "display_name": "kami-princing-hADSgdW2-py3.11",
   "language": "python",
   "name": "python3"
  },
  "language_info": {
   "codemirror_mode": {
    "name": "ipython",
    "version": 3
   },
   "file_extension": ".py",
   "mimetype": "text/x-python",
   "name": "python",
   "nbconvert_exporter": "python",
   "pygments_lexer": "ipython3",
   "version": "3.11.2"
  },
  "orig_nbformat": 4
 },
 "nbformat": 4,
 "nbformat_minor": 2
}
